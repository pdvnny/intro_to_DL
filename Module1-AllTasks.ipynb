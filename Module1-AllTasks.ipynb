{
 "cells": [
  {
   "cell_type": "markdown",
   "metadata": {
    "deletable": false,
    "editable": false,
    "nbgrader": {
     "cell_type": "markdown",
     "checksum": "29cc0557591f5119ed28df4b31530205",
     "grade": false,
     "grade_id": "cell-344b8948f17b670d",
     "locked": true,
     "schema_version": 3,
     "solution": false,
     "task": false
    }
   },
   "source": [
    "### Grading\n",
    "The final score that you will receive for your programming assignment is generated in relation to the total points set in your programming assignment item—not the total point value in the nbgrader notebook.<br>\n",
    "When calculating the final score shown to learners, the programming assignment takes the percentage of earned points vs. the total points provided by nbgrader and returns a score matching the equivalent percentage of the point value for the programming assignment. <br>\n",
    "**DO NOT CHANGE VARIABLE OR METHOD SIGNATURES** The autograder will not work properly if you change the variable or method signatures. "
   ]
  },
  {
   "cell_type": "markdown",
   "metadata": {
    "deletable": false,
    "editable": false,
    "nbgrader": {
     "cell_type": "markdown",
     "checksum": "a5f13a336c857430fd03a6ace8ff3a46",
     "grade": false,
     "grade_id": "cell-d3724f900290df95",
     "locked": true,
     "schema_version": 3,
     "solution": false,
     "task": false
    }
   },
   "source": [
    "### Validate Button\n",
    "Please note that this assignment uses nbgrader to facilitate grading. You will see a **validate button** at the top of your Jupyter notebook. If you hit this button, it will run tests cases for the lab that aren't hidden. It is good to use the validate button before submitting the lab. Do know that the labs in the course contain hidden test cases. The validate button will not let you know whether these test cases pass. After submitting your lab, you can see more information about these hidden test cases in the Grader Output. <br>\n",
    "***Cells with longer execution times will cause the validate button to time out and freeze. Please know that if you run into Validate time-outs, it will not affect the final submission grading.*** <br>"
   ]
  },
  {
   "cell_type": "markdown",
   "metadata": {
    "deletable": false,
    "editable": false,
    "nbgrader": {
     "cell_type": "markdown",
     "checksum": "ed7c693a3801ad7001a646a0b845090d",
     "grade": false,
     "grade_id": "cell-6f53374656359ce3",
     "locked": true,
     "schema_version": 3,
     "solution": false,
     "task": false
    }
   },
   "source": [
    "# Homework 1. Neural Networks\n",
    "This assignment has mixed types of theoretical and code implementation questions on multilayer perceptron and neural network training."
   ]
  },
  {
   "cell_type": "code",
   "execution_count": 3,
   "metadata": {
    "deletable": false,
    "editable": false,
    "nbgrader": {
     "cell_type": "code",
     "checksum": "34fa599d135e3d76e7236467e19782c3",
     "grade": false,
     "grade_id": "cell-7624798a42d5083a",
     "locked": true,
     "schema_version": 3,
     "solution": false,
     "task": false
    }
   },
   "outputs": [],
   "source": [
    "import math\n",
    "import pickle\n",
    "import gzip\n",
    "import numpy as np\n",
    "import pandas\n",
    "import matplotlib.pylab as plt\n",
    "%matplotlib inline"
   ]
  },
  {
   "cell_type": "markdown",
   "metadata": {
    "deletable": false,
    "editable": false,
    "nbgrader": {
     "cell_type": "markdown",
     "checksum": "9807beb0f33d207bde175ddfcefc3555",
     "grade": false,
     "grade_id": "cell-e9c4e81b1f64c778",
     "locked": true,
     "schema_version": 3,
     "solution": false,
     "task": false
    }
   },
   "source": [
    "[Peer Review] Problem 1 - Single-Layer and Multilayer Perceptron Learning\n",
    "---\n",
    "\n",
    "**Part A** : Answer this question in this week's Peer Review assignment. Consider learning the following concepts with either a single-layer or multilayer perceptron where all hidden and output neurons utilize *indicator* activation functions. For each of the following concepts, state whether the concept can be learned by a single-layer perceptron. Briefly justify your response by providing weights and biases as applicable:\n",
    "\n",
    "i. $~ \\texttt{ NOT } x_1$\n",
    "\n",
    "ii. $~~x_1 \\texttt{ NOR } x_2$\n",
    "\n",
    "iii. $~~x_1 \\texttt{ XNOR } x_2$ (output 1 when $x_1 = x_2$ and 0 otherwise)"
   ]
  },
  {
   "cell_type": "markdown",
   "metadata": {},
   "source": [
    "### My Work for Part A\n",
    "\n",
    "i. NOT x1\n",
    "\n",
    "I believe you can do this with a single-layer perceptron.\n",
    "\n",
    "- Use w = -1\n",
    "- Use threshold of 0 for the activation function\n",
    "\n",
    "If x1 = True (i.e., > 0), then w * x1 would be False (i.e., <= 0)\n",
    "\n",
    "ii. x1 NOR x2\n",
    "\n",
    "This indicates\n",
    "\n",
    "x1\t\tx2\t\tresult  \n",
    "1\t\t1\t\t0  \n",
    "1\t\t0\t\t0  \n",
    "0\t\t1\t\t0  \n",
    "0\t\t0\t\t1  \n",
    "\n",
    "This should be possible with a single-layer perceptron by using..\n",
    "\n",
    "- w1 and w2 equal to -1\n",
    "- threshold for the activation function of -1\n",
    "\n",
    "This would mean x1*w1 + x2*w2 results in \"False\" unless the output is 0, which is greater than -1,\n",
    "which only happens if x1 and x2 are negative\n",
    "\n",
    "iii. x1 XNOR x2\n",
    "\n",
    "This indicates \"not exclusive or\"\n",
    "\n",
    "x1\t\tx2\t\tresult  \n",
    "1\t\t1\t\t1  \n",
    "1\t\t0\t\t0  \n",
    "0\t\t1\t\t0  \n",
    "0\t\t0\t\t1  \n",
    "\n",
    "This one is not linearly separable so it cannot be done with a single perceptron."
   ]
  },
  {
   "cell_type": "markdown",
   "metadata": {
    "deletable": false,
    "editable": false,
    "nbgrader": {
     "cell_type": "markdown",
     "checksum": "3fcdc9c7e4b0ff8c79728408fe31d206",
     "grade": false,
     "grade_id": "cell-ff045cbc37ce40ca",
     "locked": true,
     "schema_version": 3,
     "solution": false,
     "task": false
    }
   },
   "source": [
    "**Part B** : Determine an architecture and specific values of the weights and biases in a single-layer or multilayer perceptron with *indicator* activation functions that can learn $x_1 \\texttt{ XNOR } x_2$. <br>\n",
    "In this week's Peer Review, describe your architecture and state your weight matrices and bias vectors. "
   ]
  },
  {
   "cell_type": "markdown",
   "metadata": {
    "deletable": false,
    "editable": false,
    "nbgrader": {
     "cell_type": "markdown",
     "checksum": "5e25dfa160b71663e07acb99a3f8ed35",
     "grade": false,
     "grade_id": "cell-18ccb1304f92244e",
     "locked": true,
     "schema_version": 3,
     "solution": false,
     "task": false
    }
   },
   "source": [
    "Then demonstrate that your solution is correct by implementing forward propagation for your network in Python and showing that it correctly produces the correct boolean output values for each of the four possible combinations of $x_1$ and $x_2$. <br>\n",
    "Answer the questions about this section in this week's Peer Review assignment."
   ]
  },
  {
   "cell_type": "markdown",
   "metadata": {},
   "source": [
    "### My Work for Part B\n",
    "x1\t   x2\t  result  \n",
    "0   -   0   -   1  \n",
    "0   -   1   -   0  \n",
    "1   -   0   -   0  \n",
    "1   -   1   -   1  \n",
    "\n",
    "- The first condition can be checked using a NOR gate.\n",
    "- The last condition can be checked using a AND gate.\n",
    "- Then, if either of these results is true the output should be true, which can be done with an OR gate"
   ]
  },
  {
   "cell_type": "code",
   "execution_count": 4,
   "metadata": {
    "deletable": false,
    "nbgrader": {
     "cell_type": "code",
     "checksum": "8de1e6807d6f9bf8176d1c2633617212",
     "grade": false,
     "grade_id": "cell-bfaabe5488f59154",
     "locked": false,
     "schema_version": 3,
     "solution": true,
     "task": false
    }
   },
   "outputs": [
    {
     "name": "stdout",
     "output_type": "stream",
     "text": [
      "(0, 0) --> 1\n",
      "(0, 1) --> 0\n",
      "(1, 0) --> 0\n",
      "(1, 1) --> 1\n"
     ]
    }
   ],
   "source": [
    "# implement forward propagation for network\n",
    "# show that it correctly produces the correct boolean output values \n",
    "# for each of the four possible combinations of x1 and x2 \n",
    "# your code here\n",
    "\n",
    "def indicator_activation(inpt):\n",
    "    return (inpt > 0)\n",
    "\n",
    "def gate(in1, in2, thr):\n",
    "    return (in1 + in2 + thr)\n",
    "\n",
    "def XNOR(x1, x2):\n",
    "    \n",
    "    # AND\n",
    "    res1 = gate(1*x1, 1*x2, -1)   # w = [1, 1]\n",
    "                                  # threshold of 1 --> \"-1\"\n",
    "    # NOR\n",
    "    res2 = gate(-1*x1, -1*x2, +1)   # w = [-1, -1]\n",
    "                                    # threshold of -1 --> \"+1\"\n",
    "        # e.g. -0 + -0 + 1 > 0\n",
    "        #      -1 + -0 + 1 = 0\n",
    "    \n",
    "    h1 = indicator_activation(res1)\n",
    "    h2 = indicator_activation(res2)\n",
    "    \n",
    "    \n",
    "    # OR\n",
    "    # w = [1, 1]\n",
    "    # threshold of 0\n",
    "    return gate(1*h1, 1*h2, 0)\n",
    "\n",
    "    \n",
    "options = [(0, 0),  # expect 1\n",
    "           (0, 1),  # expect 0\n",
    "           (1, 0),  # expect 0\n",
    "           (1, 1)   # expect 1\n",
    "          ]\n",
    "\n",
    "for option in options:\n",
    "    print(option, \"-->\", XNOR(option[0], option[1]))"
   ]
  },
  {
   "cell_type": "markdown",
   "metadata": {
    "deletable": false,
    "editable": false,
    "nbgrader": {
     "cell_type": "markdown",
     "checksum": "08ccc87df79d764b8bd2ada03a2ffca6",
     "grade": false,
     "grade_id": "cell-ad9d1e323efa4b80",
     "locked": true,
     "schema_version": 3,
     "solution": false,
     "task": false
    }
   },
   "source": [
    "[15 points, Peer Review] Problem 2 - Back propagation\n",
    "---"
   ]
  },
  {
   "cell_type": "markdown",
   "metadata": {
    "deletable": false,
    "editable": false,
    "nbgrader": {
     "cell_type": "markdown",
     "checksum": "77f4b8a814fce7fb8a2f19f2b4ee7a87",
     "grade": false,
     "grade_id": "cell-c06610092b8715b2",
     "locked": true,
     "schema_version": 3,
     "solution": false,
     "task": false
    }
   },
   "source": [
    "In this problem you'll gain some intuition about why training deep neural networks can be very time consuming.  Consider training the chain-like neural network seen below: \n",
    "\n",
    "![chain-like nn](figs/chain_net.png)\n",
    "\n",
    "Note that this network has three weights $W^1, W^2, W^3$ and three biases $b^1, b^2,$ and $b^3$ (for this problem you can think of each parameter as a single value or as a $1 \\times 1$ matrix). Suppose that each hidden and output neuron is equipped with a sigmoid activation function and the loss function is given by \n",
    "\n",
    "$$\n",
    "\\ell(y, a^4) = \\frac{1}{2}(y - a^4)^2  \n",
    "$$\n",
    "\n",
    "where $a^4$ is the value of the activation at the output neuron and $y \\in \\{0,1\\}$ is the true label associated with the training example. "
   ]
  },
  {
   "cell_type": "markdown",
   "metadata": {
    "deletable": false,
    "editable": false,
    "nbgrader": {
     "cell_type": "markdown",
     "checksum": "580a73400e366b6514f08e8461c77d61",
     "grade": false,
     "grade_id": "cell-c8989b8ade2901fc",
     "locked": true,
     "schema_version": 3,
     "solution": false,
     "task": false
    }
   },
   "source": [
    "**Part A**: Suppose each of the weights is initialized to $W^k = 1.0$ and each bias is initialized to $b^k = -0.5$.  Use forward propagation to find the activities and activations associated with each hidden and output neuron for the training example $(x, y) = (0.5,0)$. Show your work. Answer the Peer Review question about this section."
   ]
  },
  {
   "cell_type": "code",
   "execution_count": 6,
   "metadata": {},
   "outputs": [
    {
     "name": "stdout",
     "output_type": "stream",
     "text": [
      "Hidden Layer 1: z1 = 0.0 and h1 = 0.5\n",
      "Hidden Layer 2: z2 = 0.0 and h2 = 0.5\n",
      "Output Layer: z3 = 0.0 and a = 0.5\n"
     ]
    }
   ],
   "source": [
    "def sigmoid(x):\n",
    "    return (1.0 /(1 + np.exp(-x)))\n",
    "\n",
    "w = 1.0\n",
    "b = -0.5\n",
    "\n",
    "x = 0.5\n",
    "\n",
    "z1 = w*x + b\n",
    "h1 = sigmoid(z1) # h1 = 0.5\n",
    "print(f\"Hidden Layer 1: z1 = {z1} and h1 = {h1}\")\n",
    "\n",
    "z2 = w*h1 + b\n",
    "h2 = sigmoid(z2) # h2 = 0.5\n",
    "print(f\"Hidden Layer 2: z2 = {z2} and h2 = {h2}\")\n",
    "\n",
    "z3 = w*h2 + b\n",
    "a = sigmoid(z3)  # a = 0.5\n",
    "print(f\"Output Layer: z3 = {z3} and a = {a}\")"
   ]
  },
  {
   "cell_type": "markdown",
   "metadata": {},
   "source": [
    "For above, please note that...\n",
    "* __h1, h2, and a__ are the __\"activations\"__ associated with the hidden and output neurons\n",
    "* __x, z1, z2, and z3__ are the __\"activities\"__ associated with the hidden layers and the output "
   ]
  },
  {
   "cell_type": "code",
   "execution_count": 8,
   "metadata": {},
   "outputs": [
    {
     "name": "stdout",
     "output_type": "stream",
     "text": [
      "0.125\n"
     ]
    }
   ],
   "source": [
    "# LOSS - not requested yet, but wanted to do it\n",
    "\n",
    "def square_loss(a, y):\n",
    "    return (0.5 * (y - a)**2)\n",
    "\n",
    "print(square_loss(0.5, 0))"
   ]
  },
  {
   "cell_type": "markdown",
   "metadata": {
    "deletable": false,
    "editable": false,
    "nbgrader": {
     "cell_type": "markdown",
     "checksum": "e7afad5a4c5c2be4464903b1fafcde38",
     "grade": false,
     "grade_id": "cell-ee509363d6c8add9",
     "locked": true,
     "schema_version": 3,
     "solution": false,
     "task": false
    }
   },
   "source": [
    "**Part B**: Use Back-Propagation to compute the weight and bias derivatives $\\partial \\ell / \\partial W^k$ and $\\partial \\ell / \\partial b^k$ for $k=1, 2, 3$.  Show all work. Answer the Peer Review question about this section. "
   ]
  },
  {
   "cell_type": "markdown",
   "metadata": {},
   "source": [
    "### My answer starts here\n",
    "\n",
    "$h_{1}$ is the output of hidden layer 1  \n",
    "$h_{2}$ is the output of hidden layer 2\n",
    "\n",
    "$\\partial\\ell / \\partial\\ell = 1$\n",
    "___\n",
    "$\\partial\\ell / \\partial\\sigma(z_{3}) = a - y = 0.5 - 0 = 0.5$\n",
    "___\n",
    "$\\partial\\ell / \\partial z_{3} = \\partial \\ell / \\partial\\sigma(z_{3}) * \\partial\\sigma(z_{3}) / \\partial z_{3} = (0.5) * \\sigma * (1 - \\sigma) = 0.5 * 0.5 * 0.5 = 0.125 $\n",
    "___\n",
    "\n",
    "$z_{3} = w_{3}*h_{2} + b_{3}$\n",
    "\n",
    "Partial Derivatives of $z_{3}$ with respect to $w_{3}$ and $b_{3}$  \n",
    "$\\partial z_{3} / \\partial w_{3} = h_{2}$  \n",
    "$\\partial z_{3} / \\partial b_{3} = 1$\n",
    "\n",
    "__Derivatives of loss w.r.t. $W^{3}$ and $b^{3}$__  \n",
    "$\\partial \\ell / \\partial W^{3} = \\partial\\ell / \\partial z_{3} * \\partial z_{3} / \\partial W^{3} = 0.125 * h_{2} = 0.0625 $  \n",
    "$\\partial \\ell / \\partial b^{3} = \\partial\\ell / \\partial z_{3} * \\partial z_{3} / \\partial b^{3} = 0.125 * 1 = 0.125 $\n",
    "___\n",
    "$ h_{2} = \\sigma (z_{2}) $\n",
    "\n",
    "$ \\partial \\ell / \\partial h_{2} = \\partial\\ell / \\partial z_{3} * \\partial z_{3} / \\partial h^{2} = 0.125 * W^{3} = 0.125 $\n",
    "\n",
    "$ \\partial\\ell / \\partial z_{2} = \\partial \\ell / \\partial h_{2} * \\partial h_{2} / \\partial z_{2} = (0.125) * h_{2} * (1 - h_{2}) = (0.125) * (0.5) * (0.5) = 0.03125 $\n",
    "___\n",
    "$z_{2} = w_{2}*h_{1} + b_{2}$\n",
    "\n",
    "Partial Derivatives of $z_{2}$ with respect to $w_{2}$ and $b_{2}$  \n",
    "$\\partial z_{2} / \\partial w_{2} = h_{1}$  \n",
    "$\\partial z_{2} / \\partial b_{2} = 1$\n",
    "\n",
    "__Derivatives of loss w.r.t. $W^{2}$ and $b^{2}$__  \n",
    "$\\partial \\ell / \\partial W^{2} = \\partial\\ell / \\partial z_{2} * \\partial z_{2} / \\partial W^{2} = 0.03125 * h_{1} = 0.015625 $  \n",
    "$\\partial \\ell / \\partial b^{2} = \\partial\\ell / \\partial z_{2} * \\partial z_{2} / \\partial b^{2} = 0.03125 * 1 =  0.03125$\n",
    "___\n",
    "$ h_{1} = \\sigma (z_{1}) $\n",
    "\n",
    "$ \\partial \\ell / \\partial h_{1} = \\partial\\ell / \\partial z_{2} * \\partial z_{2} / \\partial h_{1} = 0.03125 * W^{2} = 0.03125 $\n",
    "\n",
    "$ \\partial\\ell / \\partial z_{1} = \\partial \\ell / \\partial h_{1} * \\partial h_{1} / \\partial z_{1} = (0.03125) * h_{1} * (1 - h_{1}) = (0.03125) * (0.5) * (0.5) = 0.0078125$\n",
    "___\n",
    "\n",
    "$z_{1} = w_{1}*x + b_{1}$\n",
    "\n",
    "Partial Derivatives of $z_{1}$ with respect to $w_{1}$ and $b_{1}$  \n",
    "$\\partial z_{1} / \\partial w_{1} = x$  \n",
    "$\\partial z_{1} / \\partial b_{1} = 1$\n",
    "\n",
    "__Derivatives of loss w.r.t. $W^{1}$ and $b^{1}$__  \n",
    "$\\partial \\ell / \\partial W^{1} = \\partial\\ell / \\partial z_{1} * \\partial z_{1} / \\partial W^{1} =  0.0078125 * x =  0.00390625 $  \n",
    "$\\partial \\ell / \\partial b^{1} = \\partial\\ell / \\partial z_{1} * \\partial z_{1} / \\partial b^{1} =  0.0078125 * 1 =  0.0078125 $"
   ]
  },
  {
   "cell_type": "markdown",
   "metadata": {
    "deletable": false,
    "editable": false,
    "nbgrader": {
     "cell_type": "markdown",
     "checksum": "9bc41fe7db60d1249d8ab1b29f1ecc93",
     "grade": false,
     "grade_id": "cell-7f8e597e7e4b60ed",
     "locked": true,
     "schema_version": 3,
     "solution": false,
     "task": false
    }
   },
   "source": [
    "**PART C** Implement following activation functions:\n",
    "* Relu\n",
    "* Sigmoid\n",
    "* softmax"
   ]
  },
  {
   "cell_type": "code",
   "execution_count": 9,
   "metadata": {
    "deletable": false,
    "nbgrader": {
     "cell_type": "code",
     "checksum": "c8233dc81204ea9ceb6bf4d797c3c9d0",
     "grade": false,
     "grade_id": "cell-d0c234545c5fc035",
     "locked": false,
     "schema_version": 3,
     "solution": true,
     "task": false
    }
   },
   "outputs": [],
   "source": [
    "import math\n",
    "import numpy as np\n",
    "\n",
    "def relu(x):\n",
    "    # your code here\n",
    "    return max(0, x)\n",
    "\n",
    "def sigmoid(x):\n",
    "    # your code here\n",
    "    return (1.0 /(1 + np.exp(-x)))\n",
    "    \n",
    "\n",
    "def soft_max(x):\n",
    "    # your code here\n",
    "    e = np.exp(x)\n",
    "    return (e / np.sum(e))"
   ]
  },
  {
   "cell_type": "code",
   "execution_count": null,
   "metadata": {
    "deletable": false,
    "editable": false,
    "nbgrader": {
     "cell_type": "code",
     "checksum": "af687097dc603de58b0b89ca4b352dc0",
     "grade": true,
     "grade_id": "cell-0193f7345d99339c",
     "locked": true,
     "points": 5,
     "schema_version": 3,
     "solution": false,
     "task": false
    }
   },
   "outputs": [],
   "source": [
    "# tests relu, sigmoid, and softmax functions "
   ]
  },
  {
   "cell_type": "markdown",
   "metadata": {
    "deletable": false,
    "editable": false,
    "nbgrader": {
     "cell_type": "markdown",
     "checksum": "db162e4121cb646336b238604988f335",
     "grade": false,
     "grade_id": "cell-219d9e1514d5ceef",
     "locked": true,
     "schema_version": 3,
     "solution": false,
     "task": false
    }
   },
   "source": [
    "**PART D** Implement the following Loss functions:\n",
    "* mean squared error\n",
    "* mean absolute error\n",
    "* hinge"
   ]
  },
  {
   "cell_type": "code",
   "execution_count": 21,
   "metadata": {
    "deletable": false,
    "nbgrader": {
     "cell_type": "code",
     "checksum": "7946e3115d8ce0995d4d78d8febe9741",
     "grade": false,
     "grade_id": "cell-7837043e5e1e21a4",
     "locked": false,
     "schema_version": 3,
     "solution": true,
     "task": false
    }
   },
   "outputs": [],
   "source": [
    "import numpy as np\n",
    "\n",
    "def mean_squared_error(yhat,y):\n",
    "    # your code here\n",
    "    return np.square(np.subtract(y,yhat)).mean()\n",
    "    \n",
    "    \n",
    "def mean_absolute_error(yhat,y):\n",
    "    # your code here\n",
    "    return np.absolute(np.subtract(y,yhat)).mean()\n",
    "\n",
    "def hinge(yhat,y):\n",
    "    # your code here\n",
    "    loss = 1 - np.multiply(y,yhat)\n",
    "    l = [loss[i] if loss[i] > 0 else 0 for i in range(len(loss))]\n",
    "    return np.sum(l)"
   ]
  },
  {
   "cell_type": "code",
   "execution_count": 22,
   "metadata": {},
   "outputs": [],
   "source": [
    "# My testing\n",
    "# y = np.array([-1, 1, -1, 1, -1])\n",
    "# yhat = np.array([-1, -1, -1, 1, 1])\n",
    "\n",
    "# print(mean_squared_error(yhat, y))\n",
    "# print(mean_squared_error(y, y))\n",
    "\n",
    "# print(mean_absolute_error(yhat, y))\n",
    "# print(mean_absolute_error(y, y))\n",
    "\n",
    "# print(hinge(yhat, y))\n",
    "# print(hinge(y, y))"
   ]
  },
  {
   "cell_type": "code",
   "execution_count": null,
   "metadata": {
    "deletable": false,
    "editable": false,
    "nbgrader": {
     "cell_type": "code",
     "checksum": "3ee2747c222da2f29264feb1da78385d",
     "grade": true,
     "grade_id": "cell-503845fcfe0eb3d2",
     "locked": true,
     "points": 10,
     "schema_version": 3,
     "solution": false,
     "task": false
    }
   },
   "outputs": [],
   "source": [
    "# tests mean_squared_error, mean_absolute_error, and hinge"
   ]
  },
  {
   "cell_type": "markdown",
   "metadata": {
    "deletable": false,
    "editable": false,
    "nbgrader": {
     "cell_type": "markdown",
     "checksum": "3bb4734dce6230601e9891138145b6a5",
     "grade": false,
     "grade_id": "cell-be3dee9da9a08ec3",
     "locked": true,
     "schema_version": 3,
     "solution": false,
     "task": false
    }
   },
   "source": [
    "[Peer Review] Problem 3 - Build a feed-forward neural network\n",
    "---\n",
    "\n",
    "In this problem you'll implement a general feed-forward neural network class that utilizes sigmoid activation functions. Your tasks will be to implement forward propagation, prediction, back propagation, and a general train routine to learn the weights in your network via stochastic gradient descent.\n",
    "\n",
    "The skeleton for the network class is below. Befor filling out the codes below, read the PART X instruction. The place you will complete the code is indicated as \"TODO\" in the code. Pleaes do not modify other parts of the code."
   ]
  },
  {
   "cell_type": "code",
   "execution_count": 30,
   "metadata": {
    "deletable": false,
    "nbgrader": {
     "cell_type": "code",
     "checksum": "1bea482d288a5395ef2c4c72de752b2d",
     "grade": false,
     "grade_id": "cell-4f59cb9a915b1ca3",
     "locked": false,
     "schema_version": 3,
     "solution": true,
     "task": false
    }
   },
   "outputs": [
    {
     "data": {
      "text/html": [
       "\n",
       "<style>\n",
       ".MathJax nobr>span.math>span{border-left-width:0 !important};\n",
       "</style>\n"
      ],
      "text/plain": [
       "<IPython.core.display.HTML object>"
      ]
     },
     "execution_count": 30,
     "metadata": {},
     "output_type": "execute_result"
    }
   ],
   "source": [
    "import numpy as np\n",
    "from sklearn import datasets\n",
    "import matplotlib.pyplot as plt\n",
    "from matplotlib.colors import colorConverter, ListedColormap\n",
    "%matplotlib inline\n",
    "\n",
    "class Network:\n",
    "    def __init__(self, sizes):\n",
    "        \"\"\"\n",
    "        Initialize the neural network \n",
    "        \n",
    "        :param sizes: a list of the number of neurons in each layer \n",
    "        \"\"\"\n",
    "        # save the number of layers in the network \n",
    "        self.L = len(sizes) \n",
    "        \n",
    "        # store the list of layer sizes \n",
    "        self.sizes = sizes  \n",
    "        \n",
    "        # initialize the bias vectors for each hidden and output layer \n",
    "        self.b = [np.random.randn(n, 1) for n in self.sizes[1:]]\n",
    "        \n",
    "        # initialize the matrices of weights for each hidden and output layer \n",
    "        self.W = [np.random.randn(n, m) for (m, n) in zip(self.sizes[:-1], self.sizes[1:])]\n",
    "        \n",
    "        # initialize the derivatives of biases for backprop \n",
    "        self.db = [np.zeros((n, 1)) for n in self.sizes[1:]]\n",
    "        \n",
    "        # initialize the derivatives of weights for backprop \n",
    "        self.dW = [np.zeros((n, m)) for (m,n) in zip(self.sizes[:-1], self.sizes[1:])]\n",
    "        \n",
    "        # initialize the activities on each hidden and output layer \n",
    "        self.z = [np.zeros((n, 1)) for n in self.sizes]\n",
    "        \n",
    "        # initialize the activations on each hidden and output layer \n",
    "        self.a = [np.zeros((n, 1)) for n in self.sizes]\n",
    "        \n",
    "        # initialize the deltas on each hidden and output layer \n",
    "        self.delta = [np.zeros((n, 1)) for n in self.sizes]\n",
    "        \n",
    "        # b dimensions -> list with NumPy arrays -> [(3 x 1) (2 x 1)]\n",
    "        # W dimensions -> list with NumPy arrays -> [(3 x 2) (2 x 3)]\n",
    "        \n",
    "        # NOTE: zip() produces (m, n) iterable which is ([2,3], [3,2])\n",
    "        \n",
    "        # z dimensions -> list of NumPy arrays -> [(2, 1) (3, 1) (2, 1)]\n",
    "        # a dimensions -> list of NumPy arrays -> [(2, 1) (3, 1) (2, 1)]\n",
    "        \n",
    "        # delta dimensions -> list of NumPy arrays -> [(2, 1) (3, 1) (2, 1)]\n",
    "        \n",
    "    def g(self, z):\n",
    "        \"\"\"\n",
    "        sigmoid activation function \n",
    "        \n",
    "        :param z: vector of activities to apply activation to \n",
    "        \"\"\"\n",
    "        return 1.0 / (1.0 + np.exp(-z))\n",
    "    \n",
    "    def g_prime(self, z):\n",
    "        \"\"\"\n",
    "        derivative of sigmoid activation function \n",
    "        \n",
    "        :param z: vector of activities to apply derivative of activation to \n",
    "        \"\"\"\n",
    "        return self.g(z) * (1.0 - self.g(z))\n",
    "    \n",
    "    def grad_loss(self, a, y):\n",
    "        \"\"\"\n",
    "        evaluate gradient of cost function for squared-loss C(a,y) = (a-y)^2/2 \n",
    "        \n",
    "        :param a: activations on output layer \n",
    "        :param y: vector-encoded label \n",
    "        \"\"\"\n",
    "        return (a - y)\n",
    "    \n",
    "    def forward_prop(self, x): # PART A\n",
    "        \"\"\"\n",
    "        take an feature vector and propagate through network \n",
    "        \n",
    "        :param x: input feature vector \n",
    "        \"\"\"\n",
    "        if len(x.shape) == 1:\n",
    "            x = x.reshape(-1, 1)\n",
    "        # TODO: step 1. Initialize activation on initial layer to x \n",
    "        # your code here\n",
    "        self.a[0] = x\n",
    "        # self.z[0] =  *should just remain 0*\n",
    "        \n",
    "        ## TODO: step 2-4. Loop over layers and compute activities and activations \n",
    "        # your code here\n",
    "        for l in range(1,self.L):  # self.L = 3  --> range(1,3) --> [1, 2]\n",
    "            self.z[l] = np.matmul(self.W[l-1], self.a[l-1]) + self.b[l-1]\n",
    "            self.a[l] = self.g(self.z[l])\n",
    "        \n",
    "        # return a  --- SEEMS LIKE A DON'T NEED TO RETURN BASED ON THE TEST CALLS OF THIS FUNCTION\n",
    "            \n",
    "        # b dimensions -> list with NumPy arrays -> [(3 x 1) (2 x 1)]\n",
    "        # W dimensions -> list with NumPy arrays -> [(3 x 2) (2 x 3)]\n",
    "        \n",
    "        # NOTE: zip() produces (m, n) iterable which is ([2,3], [3,2])\n",
    "        \n",
    "        # z dimensions -> list of NumPy arrays -> [(2, 1) (3, 1) (2, 1)]\n",
    "        # a dimensions -> list of NumPy arrays -> [(2, 1) (3, 1) (2, 1)]\n",
    "        \n",
    "    def back_prop(self, x, y):\n",
    "        \"\"\"\n",
    "        Back propagation to get derivatives of C wrt weights and biases for given training example\n",
    "        \n",
    "        :param x: training features  \n",
    "        :param y: vector-encoded label \n",
    "        \"\"\"\n",
    "        \n",
    "        if len(y.shape) == 1:\n",
    "            y = y.reshape(-1, 1)\n",
    "        \n",
    "        # TODO: step 1. forward prop training example to fill in activities and activations \n",
    "        # your code here\n",
    "        self.forward_prop(x)\n",
    "        \n",
    "        # TODO: step 2. compute deltas on output layer (Hint: python index numbering starts from 0 ends at N-1)\n",
    "        # your code here\n",
    "        self.delta[self.L-1] = np.multiply(self.grad_loss(self.a[self.L-1],y),self.g_prime(self.z[self.L-1]))  \n",
    "        \n",
    "        # TODO: step 3-6. loop backward through layers, backprop deltas, compute dWs and dbs\n",
    "        # your code here\n",
    "        for l in range(self.L-2,-1,-1):  # L = 3 --> L - 1 = 2 --> and we need to go over the range [L-1,..,1]\n",
    "            self.dW[l] = np.matmul(self.delta[l+1], self.a[l].T)\n",
    "            self.db[l] = self.delta[l+1]\n",
    "            self.delta[l] = np.multiply( np.matmul(self.W[l].T, self.delta[l+1]), self.g_prime(self.z[l]))\n",
    "        \n",
    "        # delta dimensions -> list of NumPy arrays -> [(2, 1) (3, 1) (2, 1)]\n",
    "        \n",
    "            \n",
    "    def train(self, X_train, y_train, X_valid=None, y_valid=None,\n",
    "              eta=0.25, num_epochs=10, isPrint=True, isVis=False):\n",
    "        \"\"\"\n",
    "        Train the network with SGD \n",
    "        \n",
    "        :param X_train: matrix of training features \n",
    "        :param y_train: matrix of vector-encoded labels \n",
    "        \"\"\"\n",
    "        \n",
    "        # initialize shuffled indices \n",
    "        shuffled_inds = list(range(X_train.shape[0]))\n",
    "        \n",
    "        # loop over training epochs (step 1.)\n",
    "        for ep in range(num_epochs):\n",
    "            \n",
    "            # shuffle indices \n",
    "            np.random.shuffle(shuffled_inds)\n",
    "            \n",
    "            # loop over training examples (step 2.) \n",
    "            for ind in shuffled_inds: \n",
    "                \n",
    "                # TODO: step 3. back prop to get derivatives \n",
    "                # your code here\n",
    "                \n",
    "                \n",
    "                # TODO: step 4. update weights and biases \n",
    "                # your code here\n",
    "                \n",
    "                # REMOVE THIS ... TRYING TO GET CODE TO EXECUTE\n",
    "                p = 1\n",
    "                \n",
    "                \n",
    "            # print mean loss every 10 epochs if requested \n",
    "            if isPrint and (ep % 10) == 0:\n",
    "                print(\"epoch {:3d}/{:3d}: \".format(ep, num_epochs), end=\"\")\n",
    "                print(\"  train loss: {:8.3f}\".format(self.compute_loss(X_train, y_train)), end=\"\")\n",
    "                if X_valid is not None:\n",
    "                    print(\"  validation loss: {:8.3f}\".format(self.compute_loss(X_valid, y_valid)))\n",
    "                else:\n",
    "                    print(\"\")\n",
    "                    \n",
    "            if isVis and (ep % 20) == 0:\n",
    "                self.pretty_pictures(X_train, y_train, decision_boundary=True, epoch=ep)\n",
    "                    \n",
    "    def compute_loss(self, X, y):\n",
    "        \"\"\"\n",
    "        compute average loss for given data set \n",
    "        \n",
    "        :param X: matrix of features \n",
    "        :param y: matrix of vector-encoded labels \n",
    "        \"\"\"\n",
    "        loss = 0\n",
    "        if len(X.shape) == 1:\n",
    "            X = X[np.newaxis, :]\n",
    "        if len(y.shape) == 1:\n",
    "            y = y[np.newaxis, :]\n",
    "        for x, t in zip(X, y):\n",
    "            self.forward_prop(x)\n",
    "            if len(t.shape) == 1:\n",
    "                t = t.reshape(-1, 1)\n",
    "            loss += 0.5 * np.sum((self.a[-1] - t) ** 2)\n",
    "        return loss / X.shape[0]\n",
    "    \n",
    "    \n",
    "    def gradient_check(self, x, y, h=1e-5):\n",
    "        \"\"\"\n",
    "        check whether the gradient is correct for X, y\n",
    "        \n",
    "        Assuming that back_prop has finished.\n",
    "        \"\"\"\n",
    "        for ll in range(self.L - 1):\n",
    "            oldW = self.W[ll].copy()\n",
    "            oldb = self.b[ll].copy()\n",
    "            for i in range(self.W[ll].shape[0]):\n",
    "                for j in range(self.W[ll].shape[1]):\n",
    "                    self.W[ll][i, j] = oldW[i, j] + h\n",
    "                    lxph = self.compute_loss(x, y)\n",
    "                    self.W[ll][i, j] = oldW[i, j] - h\n",
    "                    lxmh = self.compute_loss(x, y)\n",
    "                    grad = (lxph - lxmh) / (2 * h)\n",
    "                    assert abs(self.dW[ll][i, j] - grad) < 1e-5\n",
    "                    self.W[ll][i, j] = oldW[i, j]\n",
    "            for i in range(self.b[ll].shape[0]):\n",
    "                j = 0\n",
    "                self.b[ll][i, j] = oldb[i, j] + h\n",
    "                lxph = self.compute_loss(x, y)\n",
    "                self.b[ll][i, j] = oldb[i, j] - h\n",
    "                lxmh = self.compute_loss(x, y)\n",
    "                grad = (lxph - lxmh) / (2 * h)\n",
    "                assert abs(self.db[ll][i, j] - grad) < 1e-5\n",
    "                self.b[ll][i, j] = oldb[i, j]\n",
    "        \n",
    "        \n",
    "            \n",
    "    def pretty_pictures(self, X, y, decision_boundary=False, epoch=None):\n",
    "        \"\"\"\n",
    "        Function to plot data and neural net decision boundary\n",
    "        \n",
    "        :param X: matrix of features \n",
    "        :param y: matrix of vector-encoded labels \n",
    "        :param decision_boundary: whether or not to plot decision \n",
    "        :param epoch: epoch number for printing \n",
    "        \"\"\"\n",
    "        \n",
    "        mycolors = {\"blue\": \"steelblue\", \"red\": \"#a76c6e\"}\n",
    "        colorlist = [c for (n,c) in mycolors.items()]\n",
    "        colors = [colorlist[np.argmax(yk)] for yk in y]\n",
    "\n",
    "        fig, ax = plt.subplots(nrows=1, ncols=1, figsize=(8,8))\n",
    "        \n",
    "        if decision_boundary:\n",
    "            xx, yy = np.meshgrid(np.linspace(-1.25,1.25,300), np.linspace(-1.25,1.25,300))\n",
    "            grid = np.column_stack((xx.ravel(), yy.ravel()))\n",
    "            grid_pred = np.zeros_like(grid[:,0])\n",
    "            for ii in range(len(grid_pred)):\n",
    "                self.forward_prop(grid[ii,:])\n",
    "                grid_pred[ii] = np.argmax(self.a[-1])\n",
    "            grid_pred = grid_pred.reshape(xx.shape)\n",
    "            cmap = ListedColormap([\n",
    "                colorConverter.to_rgba('steelblue', alpha=0.30),\n",
    "                colorConverter.to_rgba('#a76c63', alpha=0.30)])\n",
    "            plt.contourf(xx, yy, grid_pred, cmap=cmap)\n",
    "            if epoch is not None: plt.text(-1.23,1.15, \"epoch = {:d}\".format(epoch), fontsize=16)\n",
    "\n",
    "        plt.scatter(X[:,0], X[:,1], color=colors, s=100, alpha=0.9)\n",
    "        plt.axis('off')\n",
    "        \n",
    "def generate_data(N, config=\"checkerboard\"):\n",
    "    X = np.zeros((N,2))\n",
    "    y = np.zeros((N,2)).astype(int)\n",
    "    \n",
    "    if config==\"checkerboard\":\n",
    "        nps, sqlen = N//9, 2/3\n",
    "        ctr = 0\n",
    "        for ii in range(3):\n",
    "            for jj in range(3):\n",
    "                X[ctr * nps : (ctr + 1) * nps, :] = np.column_stack(\n",
    "                    (np.random.uniform(ii * sqlen +.05-1, (ii+1) * sqlen - .05 -1, size=nps),\n",
    "                     np.random.uniform(jj * sqlen +.05-1, (jj+1) * sqlen - .05 -1, size=nps))) \n",
    "                y[ctr*nps:(ctr+1)*nps,(3*ii+jj)%2] = 1 \n",
    "                ctr += 1\n",
    "                \n",
    "    if config==\"blobs\":            \n",
    "        X, yflat = datasets.make_blobs(n_samples=N, centers=[[-.5,.5],[.5,-.5]],\n",
    "                                       cluster_std=[.20,.20],n_features=2)\n",
    "        for kk, yk in enumerate(yflat):\n",
    "            y[kk,:] = np.array([1,0]) if yk else np.array([0,1])\n",
    "            \n",
    "    \n",
    "    if config==\"circles\":\n",
    "        kk=0\n",
    "        while kk < N / 2:\n",
    "            sample = 2 * np.random.rand(2) - 1 \n",
    "            if np.linalg.norm(sample) <= .45:\n",
    "                X[kk,:] = sample \n",
    "                y[kk,:] = np.array([1,0])\n",
    "                kk += 1 \n",
    "        while kk < N:\n",
    "            sample = 2 * np.random.rand(2) - 1\n",
    "            dist = np.linalg.norm(sample)\n",
    "            if dist < 0.9 and dist > 0.55:\n",
    "                X[kk,:] = sample \n",
    "                y[kk,:] = np.array([0,1])\n",
    "                kk += 1\n",
    "                \n",
    "    if config==\"moons\":\n",
    "        X, yflat = datasets.make_moons(n_samples=N, noise=.05)\n",
    "        X[:,0] = .5 * (X[:,0] - .5)\n",
    "        X[:,1] = X[:,1] - .25\n",
    "        for kk, yk in enumerate(yflat):\n",
    "            y[kk, :] = np.array([1,0]) if yk else np.array([0,1])\n",
    "            \n",
    "    return X, y\n",
    "\n",
    "from IPython.core.display import HTML\n",
    "HTML(\"\"\"\n",
    "<style>\n",
    ".MathJax nobr>span.math>span{border-left-width:0 !important};\n",
    "</style>\n",
    "\"\"\")        "
   ]
  },
  {
   "cell_type": "markdown",
   "metadata": {
    "deletable": false,
    "editable": false,
    "nbgrader": {
     "cell_type": "markdown",
     "checksum": "ba8a9062eafc5921b6f48f3059061aeb",
     "grade": false,
     "grade_id": "cell-a1169ae25f8d2180",
     "locked": true,
     "schema_version": 3,
     "solution": false,
     "task": false
    }
   },
   "source": [
    "We'll be using our network to do binary classification of two-dimensional feature vectors.  Scroll down to the **Helper Functions** and examine the function ``generate_data``. Then mess around with the following cell to look at the various data sets available.  "
   ]
  },
  {
   "cell_type": "code",
   "execution_count": 10,
   "metadata": {
    "deletable": false,
    "nbgrader": {
     "cell_type": "code",
     "checksum": "1f92ff3db3fa8f79a60d8d3eb0ee9ae2",
     "grade": false,
     "grade_id": "cell-8796d2ab35301fb4",
     "locked": false,
     "schema_version": 3,
     "solution": true,
     "task": false
    }
   },
   "outputs": [
    {
     "data": {
      "image/png": "[encoded data removed]",
      "text/plain": [
       "<Figure size 576x576 with 1 Axes>"
      ]
     },
     "metadata": {
      "needs_background": "light"
     },
     "output_type": "display_data"
    }
   ],
   "source": [
    "# play with this cell to look at the various data sets available\n",
    "# your code here\n",
    "\n",
    "nn = Network([2,3,2])\n",
    "# X_train, y_train = generate_data(300, \"blobs\") # <--- linear margin\n",
    "# X_train, y_train = generate_data(500, \"blobs\") # <--- linear margin\n",
    "X_train, y_train = generate_data(300, \"moons\")  # <-- crescent shaped margin\n",
    "# X_train, y_train = generate_data(300, \"circles\")  # <-- circular margin\n",
    "# X_train, y_train = generate_data(300, \"checkerboard\")  # <-- tic-tac-toe board boundaries ... need 4 different linear boundaries\n",
    "nn.pretty_pictures(X_train, y_train, decision_boundary=False)"
   ]
  },
  {
   "cell_type": "markdown",
   "metadata": {
    "deletable": false,
    "editable": false,
    "nbgrader": {
     "cell_type": "markdown",
     "checksum": "ee4fa946e983cf153374f13e101bc19c",
     "grade": false,
     "grade_id": "cell-ed7b994c9772a0dd",
     "locked": true,
     "schema_version": 3,
     "solution": false,
     "task": false
    }
   },
   "source": [
    " Go up to the ``__init__`` function in the ``Network Class``.  How are we initializing a network?  What data structures are we using to store things like weights, biases, deltas, etc? "
   ]
  },
  {
   "cell_type": "markdown",
   "metadata": {},
   "source": [
    "### How are we initializing the network?\n",
    "\n",
    "`Network([2,3,2])`\n",
    "\n",
    "I believe this means there are three layers to the network. Still need to determine below if...\n",
    "* First layer of 2 perceptrons is (1) the data inputs OR (2) a linear combination of the inputs?\n",
    "* What kind of output are we looking for?\n",
    "    * One value? - linear combination of the perceptrons in the last layer?\n",
    "    * Two values? - outputs from the last layer?\n",
    "\n",
    "### What data structures are we using?\n",
    "\n",
    "Weights --> NumPy array  \n",
    "Biases --> NumPy array  \n",
    "Deltas --> NumPy array  \n",
    "\n",
    "Samples --> NumPy array\n",
    "\n",
    "*Information about the network is stored in lists*\n"
   ]
  },
  {
   "cell_type": "markdown",
   "metadata": {
    "deletable": false,
    "editable": false,
    "nbgrader": {
     "cell_type": "markdown",
     "checksum": "666fca44a1dc9fc1c5fab95c203e5ca8",
     "grade": false,
     "grade_id": "cell-fdb21fabf399efc7",
     "locked": true,
     "schema_version": 3,
     "solution": false,
     "task": false
    }
   },
   "source": [
    "**PART A.** Implementing Forward Propagation. \n",
    "\n",
    "Complete the ``forward_prop`` function to implement forward propagation.  Your function should take in a single training example ``x`` and propagate it forward in the network, setting the activations and activities on the hidden and output layers.  Remember that the pseudocode that we wrote for forward-prop looked as follows: \n",
    "\n",
    "1. $\\quad$Initialize ${\\bf a}^0 = {\\bf x}$\n",
    "2. $\\quad$For $\\ell = 0, \\ldots, L-1$: \n",
    "3. $\\quad\\quad\\quad{\\bf z}^{\\ell+1} = W^\\ell {\\bf a}^\\ell + {\\bf b}^\\ell$\n",
    "3. $\\quad\\quad\\quad{\\bf a}^{\\ell+1} = g({\\bf z}^{\\ell+1})$\n",
    "\n",
    "When you think you're done, we can instantiate a ``Network`` with with $2$ neurons in the input layer, $3$ neurons in the sole hidden layer, and $2$ neurons in the output layer, and then forward prop one of the training examples. \n",
    "\n",
    "Check that your indexing was correct by making sure that all of the activations are now non-zero (remember, we initialized them to vectors of zeros). \n",
    "\n",
    "What other things could we check?<br>\n",
    "Answer the question about this section in this week's Peer Review assignment. "
   ]
  },
  {
   "cell_type": "markdown",
   "metadata": {},
   "source": [
    "### Structure\n",
    "* ONE HIDDEN LAYER!\n",
    "* 2 neurons in the output layer...\n",
    "    * so the output is two values I guess"
   ]
  },
  {
   "cell_type": "code",
   "execution_count": 23,
   "metadata": {
    "deletable": false,
    "editable": false,
    "nbgrader": {
     "cell_type": "code",
     "checksum": "683d64e7490b34adc182caf546dd13cd",
     "grade": false,
     "grade_id": "cell-767905ab9692f8e4",
     "locked": true,
     "schema_version": 3,
     "solution": false,
     "task": false
    }
   },
   "outputs": [
    {
     "data": {
      "text/plain": [
       "[array([[0.],\n",
       "        [0.]]),\n",
       " array([[ 0.93623657],\n",
       "        [ 0.0934029 ],\n",
       "        [-0.05639826]]),\n",
       " array([[-2.90186378],\n",
       "        [-1.72473803]])]"
      ]
     },
     "execution_count": 23,
     "metadata": {},
     "output_type": "execute_result"
    }
   ],
   "source": [
    "# test your forward_prop function\n",
    "nn = Network([2,3,2])\n",
    "nn.forward_prop(X_train[0])\n",
    "nn.z"
   ]
  },
  {
   "cell_type": "code",
   "execution_count": 24,
   "metadata": {},
   "outputs": [
    {
     "data": {
      "text/plain": [
       "[array([[ 0.23896566],\n",
       "        [-0.00199819]]),\n",
       " array([[0.71833884],\n",
       "        [0.52333376],\n",
       "        [0.48590417]]),\n",
       " array([[0.05206151],\n",
       "        [0.15126188]])]"
      ]
     },
     "execution_count": 24,
     "metadata": {},
     "output_type": "execute_result"
    }
   ],
   "source": [
    "# my test\n",
    "nn.a"
   ]
  },
  {
   "cell_type": "markdown",
   "metadata": {
    "deletable": false,
    "editable": false,
    "nbgrader": {
     "cell_type": "markdown",
     "checksum": "cabf84e7a646a18fd7f853eef92e75c6",
     "grade": false,
     "grade_id": "cell-ecb5d896a0389f91",
     "locked": true,
     "schema_version": 3,
     "solution": false,
     "task": false
    }
   },
   "source": [
    "**PART B.** Implementing Back Propagation\n",
    "\n",
    "OK, now it's time to implement back propagation.  Complete the function ``back_prop`` in the ``Network`` class to use a single training example to compute the derivatives of the loss function with respect to the weights and the biases.  Remember, the pseudocode for back-prop was as follows: \n",
    "\n",
    "1. $\\quad$Forward propagate the training example ${\\bf x}$, ${\\bf y}$\n",
    "2. $\\quad$Compute the $\\delta^L = \\dfrac{\\partial \\mathscr{L}}{\\partial {\\bf a}^L} \\odot g'({\\bf z}^L)$\n",
    "3. $\\quad$For $\\ell = L-1, \\ldots, 1$: \n",
    "4. $\\quad\\quad\\quad \\dfrac{\\partial \\mathscr{L}}{\\partial W^\\ell} = \\delta^{\\ell+1} ({\\bf a}^\\ell)^T$\n",
    "5. $\\quad\\quad\\quad \\dfrac{\\partial \\mathscr{L}}{\\partial {\\bf b}^\\ell} = \\delta^{\\ell+1}$\n",
    "6. $\\quad\\quad\\quad\\delta^{\\ell} = (W^\\ell)^T\\delta^{\\ell+1} \\odot g'({\\bf z}^\\ell)$\n",
    "\n",
    "When you think you're done, instantiate a small ``Network`` and call back-prop for a single training example.  \n",
    "\n",
    "Check that it's likely working by checking that the derivative matrices ``dW`` and ``db`` are nonzero. <br>\n",
    "Answer the question about this section in this week's Peer Review assignment. "
   ]
  },
  {
   "cell_type": "code",
   "execution_count": 31,
   "metadata": {
    "deletable": false,
    "editable": false,
    "nbgrader": {
     "cell_type": "code",
     "checksum": "08922f1b4829b160fb0036b65055f045",
     "grade": false,
     "grade_id": "cell-450534d4eefea854",
     "locked": true,
     "schema_version": 3,
     "solution": false,
     "task": false
    }
   },
   "outputs": [
    {
     "name": "stdout",
     "output_type": "stream",
     "text": [
      "[[ 0.04013489  0.0220492 ]\n",
      " [-0.10181149  0.64317512]\n",
      " [-0.09209051 -0.92974058]]\n"
     ]
    }
   ],
   "source": [
    "# test back_prop\n",
    "nn = Network([2,3,2])\n",
    "nn.back_prop(X_train[0,:], y_train[0,:])\n",
    "print(nn.W[0])"
   ]
  },
  {
   "cell_type": "code",
   "execution_count": 32,
   "metadata": {
    "deletable": false,
    "editable": false,
    "nbgrader": {
     "cell_type": "code",
     "checksum": "ee835c3287997068112220b2c1940138",
     "grade": false,
     "grade_id": "cell-f9d911032fb2aa10",
     "locked": true,
     "schema_version": 3,
     "solution": false,
     "task": false
    }
   },
   "outputs": [
    {
     "name": "stdout",
     "output_type": "stream",
     "text": [
      "[[ 0.04013489  0.0220492 ]\n",
      " [-0.10181149  0.64317512]\n",
      " [-0.09209051 -0.92974058]]\n"
     ]
    }
   ],
   "source": [
    "# test gradient_check \n",
    "nn.gradient_check(X_train[0, :], y_train[0, :])\n",
    "print(nn.W[0])"
   ]
  },
  {
   "cell_type": "markdown",
   "metadata": {
    "deletable": false,
    "editable": false,
    "nbgrader": {
     "cell_type": "markdown",
     "checksum": "b92441196065ee6db7f3fd50a46198b5",
     "grade": false,
     "grade_id": "cell-f88c764886880cb8",
     "locked": true,
     "schema_version": 3,
     "solution": false,
     "task": false
    }
   },
   "source": [
    "**Note:** Next week, we will cover stochastic gradient descent. We encourage you to complete the following sections to train your model and get some results if you know how to do so. These sections are ungraded, so don't feel pressure to skip ahead a week in the material. "
   ]
  },
  {
   "cell_type": "markdown",
   "metadata": {
    "deletable": false,
    "editable": false,
    "nbgrader": {
     "cell_type": "markdown",
     "checksum": "7ce87a683078141d792388d816a283df",
     "grade": false,
     "grade_id": "cell-0466786367631c1d",
     "locked": true,
     "schema_version": 3,
     "solution": false,
     "task": false
    }
   },
   "source": [
    "**PART C. [Ungraded]** Implementing trainning using stochastic gradient descent \n",
    "\n",
    "OK, now let's actually train a neural net!  Complete the missing code in ``train`` to loop over the training data in random order, call back-prop to get the derivatives, and then update the weights and the biases via SGD. SGD uses minibatch to update weights. The training algorithm is following.\n",
    "1. For epoch = 0,1,...,N:\n",
    "2.     For (Xbatch, ybatch) in minibatches:\n",
    "3.         Compute gradients using backpropagation for the minibatch data\n",
    "4.         Update the weights (W, b) in the all layers (use loop over layer)    \n",
    "\n",
    "When you think you're done, execute the following code and watch the training loss evolve over the training process.  If you've done everything correctly, it'll hopefully go down! <br><br>\n",
    "Check out the solution in this week's Peer Review assignment. "
   ]
  },
  {
   "cell_type": "markdown",
   "metadata": {
    "deletable": false,
    "editable": false,
    "nbgrader": {
     "cell_type": "markdown",
     "checksum": "9062636f24110251b8f4bf7701b5907b",
     "grade": false,
     "grade_id": "cell-8d3e9ba04e6d283c",
     "locked": true,
     "schema_version": 3,
     "solution": false,
     "task": false
    }
   },
   "source": [
    "**PART D.[Ungraded]**     \n",
    "OK! If you think you've worked out the bugs, let's start looking at the results. We'll build a simple neural network, train it on a training set, and watch the decision boundary of our classifier evolve to fit the data. We can do this by running similar code as above, but with the isVis flag set to True. Note that producing the plots takes considerable computational work, so things will go a bit slower now.\n",
    "\n",
    "Start with the blobs data set, and then move on to more complicated data sets like moons, circles, and finally the checkerboard. Note that for these more complicated geometries, it'll probably be necessary to chain the number of neurons in your hidden layer, or even add more hidden layers! <br>\n",
    "Check out the solution in this week's Peer Review assignment. "
   ]
  }
 ],
 "metadata": {
  "kernelspec": {
   "display_name": "Python 3",
   "language": "python",
   "name": "python3"
  },
  "language_info": {
   "codemirror_mode": {
    "name": "ipython",
    "version": 3
   },
   "file_extension": ".py",
   "mimetype": "text/x-python",
   "name": "python",
   "nbconvert_exporter": "python",
   "pygments_lexer": "ipython3",
   "version": "3.7.6"
  }
 },
 "nbformat": 4,
 "nbformat_minor": 4
}
